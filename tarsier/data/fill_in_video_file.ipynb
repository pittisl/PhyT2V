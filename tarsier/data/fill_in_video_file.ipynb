{
 "cells": [
  {
   "cell_type": "code",
   "execution_count": null,
   "metadata": {},
   "outputs": [],
   "source": [
    "# Copyright (2024) Bytedance Ltd. and/or its affiliates\n",
    "#\n",
    "# Licensed under the Apache License, Version 2.0 (the \"License\");\n",
    "# you may not use this file except in compliance with the License.\n",
    "# You may obtain a copy of the License at\n",
    "#\n",
    "#     http://www.apache.org/licenses/LICENSE-2.0\n",
    "#\n",
    "# Unless required by applicable law or agreed to in writing, software\n",
    "# distributed under the License is distributed on an \"AS IS\" BASIS,\n",
    "# WITHOUT WARRANTIES OR CONDITIONS OF ANY KIND, either express or implied.\n",
    "# See the License for the specific language governing permissions and\n",
    "# limitations under the License.\n",
    "import json\n",
    "import os\n",
    "\n",
    "# This is an example for DREAM\n",
    "\n",
    "def get_vid2path(video_dir):\n",
    "    # For DREAM, vid is the video name\n",
    "    # For other benchmarks, you should checkout their metadata and rewrite this function\n",
    "    vid2path = {}\n",
    "    for fn in os.listdir(video_dir):\n",
    "        vid = os.path.splitext(fn)[0]\n",
    "        vid2path[str(vid)] = os.path.join(video_dir, fn)\n",
    "    return vid2path\n",
    "\n",
    "def fill_in_video_file(input_file, vid2path):\n",
    "    data = [json.loads(line) for line in open(input_file)]\n",
    "    for d in data:\n",
    "        vid = str(d['vid'])\n",
    "        assert vid in vid2path\n",
    "        d['video_file'] = vid2path[vid]\n",
    "    with open (input_file, 'w') as fout:\n",
    "        for d in data:\n",
    "            fout.write(json.dumps(d, ensure_ascii=False) + '\\n')"
   ]
  },
  {
   "cell_type": "code",
   "execution_count": null,
   "metadata": {},
   "outputs": [],
   "source": [
    "video_dir = \"DIR_TO_DREAM_VIDEOS\"\n",
    "input_file = \"annotations/DREAM-1k.jsonl\"\n",
    "\n",
    "vid2path = get_vid2path(video_dir)\n",
    "fill_in_video_file(input_file, vid2path)"
   ]
  }
 ],
 "metadata": {
  "kernelspec": {
   "display_name": "Python 3.9.2 64-bit",
   "language": "python",
   "name": "python3"
  },
  "language_info": {
   "name": "python",
   "version": "3.9.2"
  },
  "orig_nbformat": 4,
  "vscode": {
   "interpreter": {
    "hash": "31f2aee4e71d21fbe5cf8b01ff0e069b9275f58929596ceb00d14d90e3e16cd6"
   }
  }
 },
 "nbformat": 4,
 "nbformat_minor": 2
}
